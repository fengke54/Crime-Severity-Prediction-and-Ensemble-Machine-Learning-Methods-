{
 "cells": [
  {
   "cell_type": "code",
   "execution_count": 37,
   "metadata": {},
   "outputs": [],
   "source": [
    "#Import Libraries \n",
    "import pandas as pd\n",
    "import numpy as np\n",
    "import matplotlib.pyplot as plt\n",
    "#Processing\n",
    "from sklearn.preprocessing import MinMaxScaler\n",
    "#ML\n",
    "from sklearn.model_selection import train_test_split\n",
    "from sklearn.ensemble import RandomForestClassifier,GradientBoostingClassifier, AdaBoostClassifier\n",
    "from sklearn.neural_network import MLPClassifier\n",
    "from sklearn.tree import DecisionTreeClassifier\n",
    "from sklearn.neighbors import KNeighborsClassifier\n",
    "from sklearn import svm\n",
    "#Model Eval\n",
    "from sklearn.model_selection import cross_val_score, cross_validate, cross_val_predict\n",
    "from sklearn.metrics import accuracy_score, f1_score, recall_score, classification_report,precision_score, confusion_matrix, auc, roc_auc_score"
   ]
  },
  {
   "cell_type": "code",
   "execution_count": 32,
   "metadata": {},
   "outputs": [],
   "source": [
    "#Loading Train Test Validate\n",
    "trainvaldata=pd.read_csv('trainvaldata.csv', index_col=0, delimiter=',')\n",
    "testdata=pd.read_csv('testdata.csv', index_col=0, delimiter=',')"
   ]
  },
  {
   "cell_type": "code",
   "execution_count": 33,
   "metadata": {},
   "outputs": [
    {
     "data": {
      "text/plain": [
       "18136    0\n",
       "12118    1\n",
       "10692    1\n",
       "10536    0\n",
       "4441     0\n",
       "Name: Severity, dtype: int64"
      ]
     },
     "execution_count": 33,
     "metadata": {},
     "output_type": "execute_result"
    }
   ],
   "source": [
    "#Use Train Val data to train\n",
    "#Split the feature in Trainval\n",
    "target=trainvaldata['Severity']\n",
    "dropcol=['Severity']\n",
    "feat=trainvaldata.drop(dropcol, axis=1)\n",
    "feat.head()\n",
    "target.head()"
   ]
  },
  {
   "cell_type": "code",
   "execution_count": 34,
   "metadata": {},
   "outputs": [
    {
     "data": {
      "text/plain": [
       "6766     1\n",
       "1453     0\n",
       "1192     1\n",
       "17935    0\n",
       "1002     1\n",
       "Name: Severity, dtype: int64"
      ]
     },
     "execution_count": 34,
     "metadata": {},
     "output_type": "execute_result"
    }
   ],
   "source": [
    "#Split the feature in test\n",
    "ytest=testdata['Severity']\n",
    "dropcol=['Severity']\n",
    "xtest=testdata.drop(dropcol, axis=1)\n",
    "xtest.head()\n",
    "ytest.head()"
   ]
  },
  {
   "cell_type": "code",
   "execution_count": 35,
   "metadata": {},
   "outputs": [
    {
     "data": {
      "text/html": [
       "<div>\n",
       "<style scoped>\n",
       "    .dataframe tbody tr th:only-of-type {\n",
       "        vertical-align: middle;\n",
       "    }\n",
       "\n",
       "    .dataframe tbody tr th {\n",
       "        vertical-align: top;\n",
       "    }\n",
       "\n",
       "    .dataframe thead th {\n",
       "        text-align: right;\n",
       "    }\n",
       "</style>\n",
       "<table border=\"1\" class=\"dataframe\">\n",
       "  <thead>\n",
       "    <tr style=\"text-align: right;\">\n",
       "      <th></th>\n",
       "      <th>Description</th>\n",
       "      <th>Location Description</th>\n",
       "      <th>Arrest</th>\n",
       "      <th>Domestic</th>\n",
       "      <th>beatnum</th>\n",
       "      <th>Language</th>\n",
       "      <th>housingcrowdedpct</th>\n",
       "      <th>belowpovertypct</th>\n",
       "      <th>adultnojobpct</th>\n",
       "      <th>adultnohighschoolpct</th>\n",
       "      <th>under18above64pct</th>\n",
       "      <th>incomepercapita</th>\n",
       "      <th>hardshipindex</th>\n",
       "      <th>Temperature</th>\n",
       "      <th>Snowfall</th>\n",
       "    </tr>\n",
       "  </thead>\n",
       "  <tbody>\n",
       "    <tr>\n",
       "      <th>0</th>\n",
       "      <td>0.495536</td>\n",
       "      <td>0.054348</td>\n",
       "      <td>0.0</td>\n",
       "      <td>0.0</td>\n",
       "      <td>0.511244</td>\n",
       "      <td>0.0</td>\n",
       "      <td>0.212903</td>\n",
       "      <td>0.494361</td>\n",
       "      <td>0.586538</td>\n",
       "      <td>0.267686</td>\n",
       "      <td>0.723684</td>\n",
       "      <td>0.112890</td>\n",
       "      <td>0.670103</td>\n",
       "      <td>0.344828</td>\n",
       "      <td>0.000000</td>\n",
       "    </tr>\n",
       "    <tr>\n",
       "      <th>1</th>\n",
       "      <td>0.098214</td>\n",
       "      <td>0.543478</td>\n",
       "      <td>1.0</td>\n",
       "      <td>1.0</td>\n",
       "      <td>0.465885</td>\n",
       "      <td>0.0</td>\n",
       "      <td>0.161290</td>\n",
       "      <td>0.522556</td>\n",
       "      <td>0.490385</td>\n",
       "      <td>0.219885</td>\n",
       "      <td>0.584211</td>\n",
       "      <td>0.139148</td>\n",
       "      <td>0.556701</td>\n",
       "      <td>0.000000</td>\n",
       "      <td>0.863517</td>\n",
       "    </tr>\n",
       "    <tr>\n",
       "      <th>2</th>\n",
       "      <td>0.258929</td>\n",
       "      <td>0.043478</td>\n",
       "      <td>1.0</td>\n",
       "      <td>0.0</td>\n",
       "      <td>0.424799</td>\n",
       "      <td>0.0</td>\n",
       "      <td>0.193548</td>\n",
       "      <td>0.488722</td>\n",
       "      <td>0.628205</td>\n",
       "      <td>0.256214</td>\n",
       "      <td>0.684211</td>\n",
       "      <td>0.189777</td>\n",
       "      <td>0.577320</td>\n",
       "      <td>0.000000</td>\n",
       "      <td>0.902887</td>\n",
       "    </tr>\n",
       "    <tr>\n",
       "      <th>3</th>\n",
       "      <td>0.366071</td>\n",
       "      <td>0.043478</td>\n",
       "      <td>0.0</td>\n",
       "      <td>0.0</td>\n",
       "      <td>0.424799</td>\n",
       "      <td>0.0</td>\n",
       "      <td>0.064516</td>\n",
       "      <td>0.684211</td>\n",
       "      <td>0.769231</td>\n",
       "      <td>0.304015</td>\n",
       "      <td>0.707895</td>\n",
       "      <td>0.137334</td>\n",
       "      <td>0.793814</td>\n",
       "      <td>0.000000</td>\n",
       "      <td>0.863517</td>\n",
       "    </tr>\n",
       "    <tr>\n",
       "      <th>4</th>\n",
       "      <td>0.303571</td>\n",
       "      <td>0.293478</td>\n",
       "      <td>1.0</td>\n",
       "      <td>0.0</td>\n",
       "      <td>0.092169</td>\n",
       "      <td>0.0</td>\n",
       "      <td>0.187097</td>\n",
       "      <td>0.253759</td>\n",
       "      <td>0.112179</td>\n",
       "      <td>0.235182</td>\n",
       "      <td>0.334211</td>\n",
       "      <td>0.294614</td>\n",
       "      <td>0.226804</td>\n",
       "      <td>1.000000</td>\n",
       "      <td>0.270341</td>\n",
       "    </tr>\n",
       "  </tbody>\n",
       "</table>\n",
       "</div>"
      ],
      "text/plain": [
       "   Description  Location Description  Arrest  Domestic   beatnum  Language  \\\n",
       "0     0.495536              0.054348     0.0       0.0  0.511244       0.0   \n",
       "1     0.098214              0.543478     1.0       1.0  0.465885       0.0   \n",
       "2     0.258929              0.043478     1.0       0.0  0.424799       0.0   \n",
       "3     0.366071              0.043478     0.0       0.0  0.424799       0.0   \n",
       "4     0.303571              0.293478     1.0       0.0  0.092169       0.0   \n",
       "\n",
       "   housingcrowdedpct  belowpovertypct  adultnojobpct  adultnohighschoolpct  \\\n",
       "0           0.212903         0.494361       0.586538              0.267686   \n",
       "1           0.161290         0.522556       0.490385              0.219885   \n",
       "2           0.193548         0.488722       0.628205              0.256214   \n",
       "3           0.064516         0.684211       0.769231              0.304015   \n",
       "4           0.187097         0.253759       0.112179              0.235182   \n",
       "\n",
       "   under18above64pct  incomepercapita  hardshipindex  Temperature  Snowfall  \n",
       "0           0.723684         0.112890       0.670103     0.344828  0.000000  \n",
       "1           0.584211         0.139148       0.556701     0.000000  0.863517  \n",
       "2           0.684211         0.189777       0.577320     0.000000  0.902887  \n",
       "3           0.707895         0.137334       0.793814     0.000000  0.863517  \n",
       "4           0.334211         0.294614       0.226804     1.000000  0.270341  "
      ]
     },
     "execution_count": 35,
     "metadata": {},
     "output_type": "execute_result"
    }
   ],
   "source": [
    "#Normalization Using Maxmin scaler\n",
    "scaler = MinMaxScaler()\n",
    "scaledfeat = scaler.fit_transform(feat)\n",
    "scaledfeat = pd.DataFrame(scaledfeat, columns=feat.columns)\n",
    "scaledfeat.head()"
   ]
  },
  {
   "cell_type": "code",
   "execution_count": 12,
   "metadata": {},
   "outputs": [],
   "source": [
    "###Split the data into train and validate\n",
    "xtrain, xval, ytrain, yval=train_test_split(scaledfeat, target, test_size=0.15, random_state=5)"
   ]
  },
  {
   "cell_type": "code",
   "execution_count": 13,
   "metadata": {},
   "outputs": [
    {
     "data": {
      "text/plain": [
       "RandomForestClassifier(bootstrap=True, class_weight=None, criterion='gini',\n",
       "            max_depth=50, max_features='auto', max_leaf_nodes=None,\n",
       "            min_impurity_decrease=0.0, min_impurity_split=None,\n",
       "            min_samples_leaf=25, min_samples_split=30,\n",
       "            min_weight_fraction_leaf=0.0, n_estimators=50, n_jobs=1,\n",
       "            oob_score=False, random_state=0, verbose=0, warm_start=False)"
      ]
     },
     "execution_count": 13,
     "metadata": {},
     "output_type": "execute_result"
    }
   ],
   "source": [
    "#Random Forest\n",
    "rfclf= RandomForestClassifier(n_estimators=50, min_samples_split = 30,bootstrap = True, max_depth = 50, min_samples_leaf = 25, random_state=0)\n",
    "# Model Training\n",
    "rfclf.fit(xtrain, ytrain)"
   ]
  },
  {
   "cell_type": "code",
   "execution_count": 40,
   "metadata": {
    "scrolled": true
   },
   "outputs": [
    {
     "name": "stdout",
     "output_type": "stream",
     "text": [
      "========== RF Validation Result  ==========\n",
      "Validation Accuracy    :  0.8670833333333333\n",
      "ROC    :  0.8573331436396293\n",
      "========== RF Cross Validation Result  ==========\n",
      "5-fold cross validation Accuracy   :  0.8686245797790118\n",
      "10-fold cross validation Accuracy  :  0.8756246287840348\n",
      "5-fold cross AUC   :  0.8581339353649272\n",
      "10-fold cross AUC  :  0.8655552399944647\n",
      "========== RF Test Result ==========\n",
      "Test Accuracy    :  0.572\n",
      "Test AUC    :  0.49862572595020416\n",
      "Confusion Matrix: \n",
      "[[2286    9]\n",
      " [1703    2]]\n"
     ]
    },
    {
     "data": {
      "image/png": "[encoded data removed]",
      "text/plain": [
       "<Figure size 432x288 with 2 Axes>"
      ]
     },
     "metadata": {},
     "output_type": "display_data"
    }
   ],
   "source": [
    "#RF Model Evaluation \n",
    "#Validation Score\n",
    "rfvalpred=rfclf.predict(xval)\n",
    "valaccuracy = accuracy_score(yval, rfvalpred)\n",
    "rocval=roc_auc_score(yval, rfvalpred)   #######\n",
    "#Performance on the Test Set\n",
    "# Prediction\n",
    "rfresult = rfclf.predict(xtest)\n",
    "testaccuracy = accuracy_score(ytest, rfresult)\n",
    "roctest=roc_auc_score(ytest, rfresult)\n",
    "confusionmatrix = confusion_matrix(ytest, rfresult)\n",
    "#Cross Validation\n",
    "cv5score=cross_val_score(rfclf, scaledfeat, target, cv=5)\n",
    "cv10score=cross_val_score(rfclf, scaledfeat, target, cv=10)\n",
    "#CV AUC \n",
    "cv5pred=cross_val_predict(rfclf, scaledfeat, target, cv=5)\n",
    "cv10pred=cross_val_predict(rfclf, scaledfeat, target, cv=10)\n",
    "cv5roc=roc_auc_score(target, cv5pred)\n",
    "cv10roc=roc_auc_score(target, cv10pred)\n",
    "print(\"========== RF Validation Result  ==========\")\n",
    "print(\"Validation Accuracy    : \", valaccuracy)\n",
    "print(\"ROC    : \", rocval)   ######\n",
    "print(\"========== RF Cross Validation Result  ==========\")\n",
    "print(\"5-fold cross validation Accuracy   : \", cv5score.mean())\n",
    "print(\"10-fold cross validation Accuracy  : \", cv10score.mean())\n",
    "print(\"5-fold cross AUC   : \", cv5roc)\n",
    "print(\"10-fold cross AUC  : \", cv10roc)\n",
    "print(\"========== RF Test Result ==========\")\n",
    "print(\"Test Accuracy    : \", testaccuracy)\n",
    "print(\"Test AUC    : \", roctest)\n",
    "#Confusion Matrix \n",
    "print(\"Confusion Matrix: \")\n",
    "print(confusionmatrix)\n",
    "#Show the confusion matrix plot\n",
    "fig = plt.figure()\n",
    "ax = fig.add_subplot(111)\n",
    "cax = ax.matshow(confusionmatrix)\n",
    "plt.title('Confusion matrix of the classifier')\n",
    "fig.colorbar(cax)\n",
    "plt.xlabel('Predicted')\n",
    "plt.ylabel('True')\n",
    "plt.show()"
   ]
  },
  {
   "cell_type": "code",
   "execution_count": 42,
   "metadata": {},
   "outputs": [
    {
     "data": {
      "text/plain": [
       "MLPClassifier(activation='relu', alpha=1e-05, batch_size='auto', beta_1=0.9,\n",
       "       beta_2=0.999, early_stopping=False, epsilon=1e-08,\n",
       "       hidden_layer_sizes=(40,), learning_rate='constant',\n",
       "       learning_rate_init=0.001, max_iter=1000, momentum=0.9,\n",
       "       nesterovs_momentum=True, power_t=0.5, random_state=0, shuffle=True,\n",
       "       solver='adam', tol=0.0001, validation_fraction=0.1, verbose=False,\n",
       "       warm_start=False)"
      ]
     },
     "execution_count": 42,
     "metadata": {},
     "output_type": "execute_result"
    }
   ],
   "source": [
    "#Neural Network \n",
    "nnclf = MLPClassifier(solver='adam', alpha=1e-5,hidden_layer_sizes=(40,), random_state=0,max_iter=1000)                     \n",
    "# Model Training\n",
    "nnclf.fit(xtrain, ytrain)"
   ]
  },
  {
   "cell_type": "code",
   "execution_count": 43,
   "metadata": {},
   "outputs": [
    {
     "name": "stdout",
     "output_type": "stream",
     "text": [
      "==========  NN Validation Result  ==========\n",
      "Validation Accuracy    :  0.7029166666666666\n",
      "ROC    :  0.6764044744002419\n",
      "========== NN Cross Validation Result  ==========\n",
      "5-fold cross validation    :  0.7024331017085548\n",
      "10-fold cross validation    :  0.7141822208963753\n",
      "5-fold cross AUC   :  0.6721040545284437\n",
      "10-fold cross AUC  :  0.6873085442043082\n",
      "========== NN Test Result ==========\n",
      "Test Accuracy    :  0.42625\n",
      "Test AUC    :  0.5\n",
      "Confusion Matrix: \n",
      "[[   0 2295]\n",
      " [   0 1705]]\n"
     ]
    },
    {
     "data": {
      "image/png": "[encoded data removed]",
      "text/plain": [
       "<Figure size 432x288 with 2 Axes>"
      ]
     },
     "metadata": {},
     "output_type": "display_data"
    }
   ],
   "source": [
    "#NN Model Evaluation \n",
    "#Validation Score\n",
    "nnvalpred=nnclf.predict(xval)\n",
    "valaccuracy = accuracy_score(yval, nnvalpred)\n",
    "rocval=roc_auc_score(yval, nnvalpred)   #######\n",
    "#Performance on the Test Set\n",
    "# Prediction\n",
    "nnresult = nnclf.predict(xtest)\n",
    "testaccuracy = accuracy_score(ytest, nnresult)\n",
    "confusionmatrix = confusion_matrix(ytest, nnresult)\n",
    "roctest=roc_auc_score(ytest, nnresult)\n",
    "#Cross Validation\n",
    "cv5score=cross_val_score(nnclf, scaledfeat, target, cv=5)\n",
    "cv10score=cross_val_score(nnclf, scaledfeat, target, cv=10)\n",
    "#CV AUC \n",
    "cv5pred=cross_val_predict(nnclf, scaledfeat, target, cv=5)\n",
    "cv10pred=cross_val_predict(nnclf, scaledfeat, target, cv=10)\n",
    "cv5roc=roc_auc_score(target, cv5pred)\n",
    "cv10roc=roc_auc_score(target, cv10pred)\n",
    "print(\"==========  NN Validation Result  ==========\")\n",
    "print(\"Validation Accuracy    : \", valaccuracy)\n",
    "print(\"ROC    : \", rocval)   ######\n",
    "print(\"========== NN Cross Validation Result  ==========\")\n",
    "print(\"5-fold cross validation    : \", cv5score.mean())\n",
    "print(\"10-fold cross validation    : \", cv10score.mean())\n",
    "print(\"5-fold cross AUC   : \", cv5roc)\n",
    "print(\"10-fold cross AUC  : \", cv10roc)\n",
    "print(\"========== NN Test Result ==========\")\n",
    "print(\"Test Accuracy    : \", testaccuracy)\n",
    "print(\"Test AUC    : \", roctest)\n",
    "#Confusion Matrix \n",
    "print(\"Confusion Matrix: \")\n",
    "print(confusionmatrix)\n",
    "#Show the confusion matrix plot\n",
    "fig = plt.figure()\n",
    "ax = fig.add_subplot(111)\n",
    "cax = ax.matshow(confusionmatrix)\n",
    "plt.title('Confusion matrix of the classifier')\n",
    "fig.colorbar(cax)\n",
    "plt.xlabel('Predicted')\n",
    "plt.ylabel('True')\n",
    "plt.show()"
   ]
  },
  {
   "cell_type": "code",
   "execution_count": 44,
   "metadata": {},
   "outputs": [
    {
     "data": {
      "text/plain": [
       "GradientBoostingClassifier(criterion='friedman_mse', init=None,\n",
       "              learning_rate=0.1, loss='deviance', max_depth=3,\n",
       "              max_features=None, max_leaf_nodes=None,\n",
       "              min_impurity_decrease=0.0, min_impurity_split=None,\n",
       "              min_samples_leaf=1, min_samples_split=3,\n",
       "              min_weight_fraction_leaf=0.0, n_estimators=100,\n",
       "              presort='auto', random_state=4, subsample=1.0, verbose=0,\n",
       "              warm_start=False)"
      ]
     },
     "execution_count": 44,
     "metadata": {},
     "output_type": "execute_result"
    }
   ],
   "source": [
    "#Gradient Boosting \n",
    "gbclf=GradientBoostingClassifier(n_estimators=100, loss='deviance', learning_rate=0.1, max_depth=3, min_samples_split=3, random_state=4)                 \n",
    "# Model Training\n",
    "gbclf.fit(xtrain, ytrain)"
   ]
  },
  {
   "cell_type": "code",
   "execution_count": 45,
   "metadata": {},
   "outputs": [
    {
     "name": "stdout",
     "output_type": "stream",
     "text": [
      "========== GB Validation Result  ==========\n",
      "Validation Accuracy    :  0.9808333333333333\n",
      "ROC    :  0.9777347014991731\n",
      "========== GB Cross Validation Result  ==========\n",
      "5-fold cross validation    :  0.9756247441100825\n",
      "10-fold cross validation    :  0.978249176098311\n",
      "5-fold cross AUC   :  0.9723538680279934\n",
      "10-fold cross AUC  :  0.9754907418285755\n",
      "========== GB Test Result ==========\n",
      "Test Accuracy    :  0.64875\n",
      "Test AUC    :  0.5974003156166344\n",
      "Confusion Matrix: \n",
      "[[2170  125]\n",
      " [1280  425]]\n"
     ]
    },
    {
     "data": {
      "image/png": "[encoded data removed]",
      "text/plain": [
       "<Figure size 432x288 with 2 Axes>"
      ]
     },
     "metadata": {},
     "output_type": "display_data"
    }
   ],
   "source": [
    "#Gradient Boosting Model Selection\n",
    "#Validation Score\n",
    "gbvalpred=gbclf.predict(xval)\n",
    "valaccuracy = accuracy_score(yval, gbvalpred)\n",
    "rocval=roc_auc_score(yval, gbvalpred)  \n",
    "#Performance on the Test Set\n",
    "# Prediction\n",
    "gbresult = gbclf.predict(xtest)\n",
    "testaccuracy = accuracy_score(ytest, gbresult)\n",
    "confusionmatrix = confusion_matrix(ytest, gbresult)\n",
    "roctest=roc_auc_score(ytest, gbresult)\n",
    "#Cross Validation\n",
    "cv5score=cross_val_score(gbclf, scaledfeat, target, cv=5)\n",
    "cv10score=cross_val_score(gbclf, scaledfeat, target, cv=10)\n",
    "#CV AUC \n",
    "cv5pred=cross_val_predict(gbclf, scaledfeat, target, cv=5)\n",
    "cv10pred=cross_val_predict(gbclf, scaledfeat, target, cv=10)\n",
    "cv5roc=roc_auc_score(target, cv5pred)\n",
    "cv10roc=roc_auc_score(target, cv10pred)\n",
    "print(\"========== GB Validation Result  ==========\")\n",
    "print(\"Validation Accuracy    : \", valaccuracy)\n",
    "print(\"ROC    : \", rocval)   ######\n",
    "print(\"========== GB Cross Validation Result  ==========\")\n",
    "print(\"5-fold cross validation    : \", cv5score.mean())\n",
    "print(\"10-fold cross validation    : \", cv10score.mean())\n",
    "print(\"5-fold cross AUC   : \", cv5roc)\n",
    "print(\"10-fold cross AUC  : \", cv10roc)\n",
    "print(\"========== GB Test Result ==========\")\n",
    "print(\"Test Accuracy    : \", testaccuracy)\n",
    "print(\"Test AUC    : \", roctest)\n",
    "#Confusion Matrix \n",
    "print(\"Confusion Matrix: \")\n",
    "print(confusionmatrix)\n",
    "#Show the confusion matrix plot\n",
    "fig = plt.figure()\n",
    "ax = fig.add_subplot(111)\n",
    "cax = ax.matshow(confusionmatrix)\n",
    "plt.title('Confusion matrix of the classifier')\n",
    "fig.colorbar(cax)\n",
    "plt.xlabel('Predicted')\n",
    "plt.ylabel('True')\n",
    "plt.show()"
   ]
  },
  {
   "cell_type": "code",
   "execution_count": 46,
   "metadata": {},
   "outputs": [
    {
     "data": {
      "text/plain": [
       "SVC(C=1, cache_size=200, class_weight=None, coef0=0.0,\n",
       "  decision_function_shape='ovr', degree=3, gamma='auto', kernel='linear',\n",
       "  max_iter=-1, probability=False, random_state=6, shrinking=True,\n",
       "  tol=0.001, verbose=False)"
      ]
     },
     "execution_count": 46,
     "metadata": {},
     "output_type": "execute_result"
    }
   ],
   "source": [
    "#SVM \n",
    "svmclf = svm.SVC(kernel='linear', C=1, random_state=6)                  \n",
    "# Model Training\n",
    "svmclf.fit(xtrain, ytrain)"
   ]
  },
  {
   "cell_type": "code",
   "execution_count": 47,
   "metadata": {},
   "outputs": [
    {
     "name": "stdout",
     "output_type": "stream",
     "text": [
      "========== SVM Validation Result  ==========\n",
      "Validation Accuracy    :  0.6579166666666667\n",
      "ROC    :  0.6045153029467731\n",
      "========== SVM Cross Validation Result  ==========\n",
      "5-fold cross validation    :  0.6566866920653508\n",
      "10-fold cross validation    :  0.6566858841302281\n",
      "5-fold cross AUC   :  0.6021536788067099\n",
      "10-fold cross AUC  :  0.6021536788067099\n",
      "========== SVM Test Result ==========\n",
      "Test Accuracy    :  0.57375\n",
      "Test AUC    :  0.5\n",
      "Confusion Matrix: \n",
      "[[2295    0]\n",
      " [1705    0]]\n"
     ]
    },
    {
     "data": {
      "image/png": "[encoded data removed]",
      "text/plain": [
       "<Figure size 432x288 with 2 Axes>"
      ]
     },
     "metadata": {},
     "output_type": "display_data"
    }
   ],
   "source": [
    "#SVM Model Evaluation \n",
    "#Validation Score\n",
    "svmvalpred=svmclf.predict(xval)\n",
    "valaccuracy = accuracy_score(yval, svmvalpred)\n",
    "rocval=roc_auc_score(yval, svmvalpred)  \n",
    "#Performance on the Test Set\n",
    "# Prediction\n",
    "svmresult = svmclf.predict(xtest)\n",
    "testaccuracy = accuracy_score(ytest, svmresult)\n",
    "confusionmatrix = confusion_matrix(ytest, svmresult)\n",
    "roctest=roc_auc_score(ytest, svmresult)\n",
    "#Cross Validation\n",
    "cv5score=cross_val_score(svmclf, scaledfeat, target, cv=5)\n",
    "cv10score=cross_val_score(svmclf, scaledfeat, target, cv=10)\n",
    "#CV AUC \n",
    "cv5pred=cross_val_predict(svmclf, scaledfeat, target, cv=5)\n",
    "cv10pred=cross_val_predict(svmclf, scaledfeat, target, cv=10)\n",
    "cv5roc=roc_auc_score(target, cv5pred)\n",
    "cv10roc=roc_auc_score(target, cv10pred)\n",
    "print(\"========== SVM Validation Result  ==========\")\n",
    "print(\"Validation Accuracy    : \", valaccuracy)\n",
    "print(\"ROC    : \", rocval)   ######\n",
    "print(\"========== SVM Cross Validation Result  ==========\")\n",
    "print(\"5-fold cross validation    : \", cv5score.mean())\n",
    "print(\"10-fold cross validation    : \", cv10score.mean())\n",
    "print(\"5-fold cross AUC   : \", cv5roc)\n",
    "print(\"10-fold cross AUC  : \", cv10roc)\n",
    "print(\"========== SVM Test Result ==========\")\n",
    "print(\"Test Accuracy    : \", testaccuracy)\n",
    "print(\"Test AUC    : \", roctest)\n",
    "#Confusion Matrix \n",
    "print(\"Confusion Matrix: \")\n",
    "print(confusionmatrix)\n",
    "#Show the confusion matrix plot\n",
    "fig = plt.figure()\n",
    "ax = fig.add_subplot(111)\n",
    "cax = ax.matshow(confusionmatrix)\n",
    "plt.title('Confusion matrix of the classifier')\n",
    "fig.colorbar(cax)\n",
    "plt.xlabel('Predicted')\n",
    "plt.ylabel('True')\n",
    "plt.show()"
   ]
  },
  {
   "cell_type": "code",
   "execution_count": 48,
   "metadata": {},
   "outputs": [
    {
     "data": {
      "text/plain": [
       "AdaBoostClassifier(algorithm='SAMME.R', base_estimator=None,\n",
       "          learning_rate=0.1, n_estimators=100, random_state=8)"
      ]
     },
     "execution_count": 48,
     "metadata": {},
     "output_type": "execute_result"
    }
   ],
   "source": [
    "#Ada Boost\n",
    "adaclf=AdaBoostClassifier(n_estimators=100, base_estimator=None, learning_rate=0.1, random_state=8)\n",
    "# Model Training\n",
    "adaclf.fit(xtrain, ytrain)"
   ]
  },
  {
   "cell_type": "code",
   "execution_count": 49,
   "metadata": {},
   "outputs": [
    {
     "name": "stdout",
     "output_type": "stream",
     "text": [
      "========== ADA Validation Result  ==========\n",
      "Validation Accuracy    :  0.7604166666666666\n",
      "ROC    :  0.7226707687930145\n",
      "========== ADA Cross Validation Result  ==========\n",
      "5-fold cross validation    :  0.779251994085888\n",
      "10-fold cross validation    :  0.7619372291014568\n",
      "5-fold cross AUC   :  0.7558008706537735\n",
      "10-fold cross AUC  :  0.7240428355913685\n",
      "========== ADA Test Result ==========\n",
      "Test Accuracy    :  0.573\n",
      "Test AUC    :  0.4993464052287582\n",
      "Confusion Matrix: \n",
      "[[2292    3]\n",
      " [1705    0]]\n"
     ]
    },
    {
     "data": {
      "image/png": "[encoded data removed]",
      "text/plain": [
       "<Figure size 432x288 with 2 Axes>"
      ]
     },
     "metadata": {},
     "output_type": "display_data"
    }
   ],
   "source": [
    "#Ada Model Evaluation \n",
    "#Validation Score\n",
    "adavalpred=adaclf.predict(xval)\n",
    "valaccuracy = accuracy_score(yval, adavalpred)\n",
    "rocval=roc_auc_score(yval, adavalpred)  \n",
    "#Performance on the Test Set\n",
    "# Prediction\n",
    "adaresult = adaclf.predict(xtest)\n",
    "testaccuracy = accuracy_score(ytest, adaresult)\n",
    "confusionmatrix = confusion_matrix(ytest, adaresult)\n",
    "roctest=roc_auc_score(ytest, adaresult)\n",
    "#Cross Validation\n",
    "cv5score=cross_val_score(adaclf, scaledfeat, target, cv=5)\n",
    "cv10score=cross_val_score(adaclf, scaledfeat, target, cv=10)\n",
    "#CV AUC \n",
    "cv5pred=cross_val_predict(adaclf, scaledfeat, target, cv=5)\n",
    "cv10pred=cross_val_predict(adaclf, scaledfeat, target, cv=10)\n",
    "cv5roc=roc_auc_score(target, cv5pred)\n",
    "cv10roc=roc_auc_score(target, cv10pred)\n",
    "print(\"========== ADA Validation Result  ==========\")\n",
    "print(\"Validation Accuracy    : \", valaccuracy)\n",
    "print(\"ROC    : \", rocval)   ######\n",
    "print(\"========== ADA Cross Validation Result  ==========\")\n",
    "print(\"5-fold cross validation    : \", cv5score.mean())\n",
    "print(\"10-fold cross validation    : \", cv10score.mean())\n",
    "print(\"5-fold cross AUC   : \", cv5roc)\n",
    "print(\"10-fold cross AUC  : \", cv10roc)\n",
    "print(\"========== ADA Test Result ==========\")\n",
    "print(\"Test Accuracy    : \", testaccuracy)\n",
    "print(\"Test AUC    : \", roctest)\n",
    "#Confusion Matrix \n",
    "print(\"Confusion Matrix: \")\n",
    "print(confusionmatrix)\n",
    "#Show the confusion matrix plot\n",
    "fig = plt.figure()\n",
    "ax = fig.add_subplot(111)\n",
    "cax = ax.matshow(confusionmatrix)\n",
    "plt.title('Confusion matrix of the classifier')\n",
    "fig.colorbar(cax)\n",
    "plt.xlabel('Predicted')\n",
    "plt.ylabel('True')\n",
    "plt.show()"
   ]
  },
  {
   "cell_type": "code",
   "execution_count": 51,
   "metadata": {},
   "outputs": [
    {
     "data": {
      "text/plain": [
       "DecisionTreeClassifier(class_weight=None, criterion='gini', max_depth=None,\n",
       "            max_features=None, max_leaf_nodes=None,\n",
       "            min_impurity_decrease=0.0, min_impurity_split=None,\n",
       "            min_samples_leaf=1, min_samples_split=3,\n",
       "            min_weight_fraction_leaf=0.0, presort=False, random_state=9,\n",
       "            splitter='best')"
      ]
     },
     "execution_count": 51,
     "metadata": {},
     "output_type": "execute_result"
    }
   ],
   "source": [
    "#Decision Tree\n",
    "dtclf = DecisionTreeClassifier(criterion='gini', splitter='best', random_state=9, max_depth=None, min_samples_split=3, min_samples_leaf=1, max_features=None)\n",
    "# Model Training\n",
    "dtclf.fit(xtrain, ytrain)"
   ]
  },
  {
   "cell_type": "code",
   "execution_count": 52,
   "metadata": {},
   "outputs": [
    {
     "name": "stdout",
     "output_type": "stream",
     "text": [
      "========== DT Validation Result  ==========\n",
      "Validation Accuracy    :  0.9816666666666667\n",
      "ROC    :  0.9809571232949796\n",
      "========== DT Cross Validation Result  ==========\n",
      "5-fold cross validation    :  0.9836252136169643\n",
      "10-fold cross validation    :  0.9859376150146932\n",
      "5-fold cross AUC   :  0.9829846661025025\n",
      "10-fold cross AUC  :  0.985507846222487\n",
      "========== DT Test Result ==========\n",
      "Test Accuracy    :  0.56475\n",
      "Test AUC    :  0.5998140800797347\n",
      "Confusion Matrix: \n",
      "[[ 831 1464]\n",
      " [ 277 1428]]\n"
     ]
    },
    {
     "data": {
      "image/png": "[encoded data removed]",
      "text/plain": [
       "<Figure size 432x288 with 2 Axes>"
      ]
     },
     "metadata": {},
     "output_type": "display_data"
    }
   ],
   "source": [
    "# DT Model Evaluation \n",
    "#Validation Score\n",
    "dtvalpred=dtclf.predict(xval)\n",
    "valaccuracy = accuracy_score(yval, dtvalpred)\n",
    "rocval=roc_auc_score(yval, dtvalpred)  \n",
    "#Performance on the Test Set\n",
    "# Prediction\n",
    "dtresult = dtclf.predict(xtest)\n",
    "testaccuracy = accuracy_score(ytest, dtresult)\n",
    "confusionmatrix = confusion_matrix(ytest, dtresult)\n",
    "roctest=roc_auc_score(ytest, dtresult)\n",
    "#Cross Validation\n",
    "cv5score=cross_val_score(dtclf, scaledfeat, target, cv=5)\n",
    "cv10score=cross_val_score(dtclf, scaledfeat, target, cv=10)\n",
    "#CV AUC \n",
    "cv5pred=cross_val_predict(dtclf, scaledfeat, target, cv=5)\n",
    "cv10pred=cross_val_predict(dtclf, scaledfeat, target, cv=10)\n",
    "cv5roc=roc_auc_score(target, cv5pred)\n",
    "cv10roc=roc_auc_score(target, cv10pred)\n",
    "print(\"========== DT Validation Result  ==========\")\n",
    "print(\"Validation Accuracy    : \", valaccuracy)\n",
    "print(\"ROC    : \", rocval)   ######\n",
    "print(\"========== DT Cross Validation Result  ==========\")\n",
    "print(\"5-fold cross validation    : \", cv5score.mean())\n",
    "print(\"10-fold cross validation    : \", cv10score.mean())\n",
    "print(\"5-fold cross AUC   : \", cv5roc)\n",
    "print(\"10-fold cross AUC  : \", cv10roc)\n",
    "print(\"========== DT Test Result ==========\")\n",
    "print(\"Test Accuracy    : \", testaccuracy)\n",
    "print(\"Test AUC    : \", roctest)\n",
    "#Confusion Matrix \n",
    "print(\"Confusion Matrix: \")\n",
    "print(confusionmatrix)\n",
    "#Show the confusion matrix plot\n",
    "fig = plt.figure()\n",
    "ax = fig.add_subplot(111)\n",
    "cax = ax.matshow(confusionmatrix)\n",
    "plt.title('Confusion matrix of the classifier')\n",
    "fig.colorbar(cax)\n",
    "plt.xlabel('Predicted')\n",
    "plt.ylabel('True')\n",
    "plt.show()"
   ]
  },
  {
   "cell_type": "code",
   "execution_count": 54,
   "metadata": {},
   "outputs": [
    {
     "data": {
      "text/plain": [
       "KNeighborsClassifier(algorithm='ball_tree', leaf_size=30, metric='minkowski',\n",
       "           metric_params=None, n_jobs=1, n_neighbors=3, p=2,\n",
       "           weights='uniform')"
      ]
     },
     "execution_count": 54,
     "metadata": {},
     "output_type": "execute_result"
    }
   ],
   "source": [
    "#KNN \n",
    "knnclf=KNeighborsClassifier(n_neighbors=3, algorithm='ball_tree')\n",
    "# Model Training\n",
    "knnclf.fit(xtrain, ytrain)"
   ]
  },
  {
   "cell_type": "code",
   "execution_count": 55,
   "metadata": {},
   "outputs": [
    {
     "name": "stdout",
     "output_type": "stream",
     "text": [
      "==========  KNN Validation Result  ==========\n",
      "Validation Accuracy    :  0.675\n",
      "ROC    :  0.6626131493304406\n",
      "========== KNN Cross Validation Result  ==========\n",
      "5-fold cross validation    :  0.6846875534301811\n",
      "10-fold cross validation    :  0.6891861237787593\n",
      "5-fold cross AUC   :  0.6734557221107075\n",
      "10-fold cross AUC  :  0.6780301187571541\n",
      "========== KNN Test Result ==========\n",
      "Test Accuracy    :  0.5295\n",
      "Test AUC    :  0.48247177658942364\n",
      "Confusion Matrix: \n",
      "[[1839  456]\n",
      " [1426  279]]\n"
     ]
    },
    {
     "data": {
      "image/png": "[encoded data removed]",
      "text/plain": [
       "<Figure size 432x288 with 2 Axes>"
      ]
     },
     "metadata": {},
     "output_type": "display_data"
    }
   ],
   "source": [
    "#KNN Model Evaluation \n",
    "#Validation Score\n",
    "knnvalpred=knnclf.predict(xval)\n",
    "valaccuracy = accuracy_score(yval, knnvalpred)\n",
    "rocval=roc_auc_score(yval, knnvalpred)  \n",
    "#Performance on the Test Set\n",
    "# Prediction\n",
    "knnresult = knnclf.predict(xtest)\n",
    "testaccuracy = accuracy_score(ytest, knnresult)\n",
    "confusionmatrix = confusion_matrix(ytest, knnresult)\n",
    "roctest=roc_auc_score(ytest, knnresult)\n",
    "#Cross Validation\n",
    "cv5score=cross_val_score(knnclf, scaledfeat, target, cv=5)\n",
    "cv10score=cross_val_score(knnclf, scaledfeat, target, cv=10)\n",
    "#CV AUC \n",
    "cv5pred=cross_val_predict(knnclf, scaledfeat, target, cv=5)\n",
    "cv10pred=cross_val_predict(knnclf, scaledfeat, target, cv=10)\n",
    "cv5roc=roc_auc_score(target, cv5pred)\n",
    "cv10roc=roc_auc_score(target, cv10pred)\n",
    "print(\"==========  KNN Validation Result  ==========\")\n",
    "print(\"Validation Accuracy    : \", valaccuracy)\n",
    "print(\"ROC    : \", rocval)   ######\n",
    "print(\"========== KNN Cross Validation Result  ==========\")\n",
    "print(\"5-fold cross validation    : \", cv5score.mean())\n",
    "print(\"10-fold cross validation    : \", cv10score.mean())\n",
    "print(\"5-fold cross AUC   : \", cv5roc)\n",
    "print(\"10-fold cross AUC  : \", cv10roc)\n",
    "print(\"========== KNN Test Result ==========\")\n",
    "print(\"Test Accuracy    : \", testaccuracy)\n",
    "print(\"Test AUC    : \", roctest)\n",
    "#Confusion Matrix \n",
    "print(\"Confusion Matrix: \")\n",
    "print(confusionmatrix)\n",
    "#Show the confusion matrix plot\n",
    "fig = plt.figure()\n",
    "ax = fig.add_subplot(111)\n",
    "cax = ax.matshow(confusionmatrix)\n",
    "plt.title('Confusion matrix of the classifier')\n",
    "fig.colorbar(cax)\n",
    "plt.xlabel('Predicted')\n",
    "plt.ylabel('True')\n",
    "plt.show()"
   ]
  }
 ],
 "metadata": {
  "kernelspec": {
   "display_name": "Python 3",
   "language": "python",
   "name": "python3"
  },
  "language_info": {
   "codemirror_mode": {
    "name": "ipython",
    "version": 3
   },
   "file_extension": ".py",
   "mimetype": "text/x-python",
   "name": "python",
   "nbconvert_exporter": "python",
   "pygments_lexer": "ipython3",
   "version": "3.6.5"
  }
 },
 "nbformat": 4,
 "nbformat_minor": 2
}
